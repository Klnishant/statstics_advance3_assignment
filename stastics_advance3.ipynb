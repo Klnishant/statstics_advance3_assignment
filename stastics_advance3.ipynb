{
 "cells": [
  {
   "cell_type": "markdown",
   "id": "d094c3ea-c85f-4336-97ef-06082c971ab8",
   "metadata": {},
   "source": [
    "Q1: What is Estimation Statistics? Explain point estimate and interval estimate."
   ]
  },
  {
   "cell_type": "markdown",
   "id": "d3880ed7-5bfa-4387-9349-64e5d6887b05",
   "metadata": {},
   "source": [
    "Ans--> Estimation statistics is a branch of statistics that deals with the estimation of population parameters based on sample data. It involves using statistical methods to infer or estimate unknown population parameters, such as the population mean, variance, or proportion, based on the information provided by a sample.\n",
    "\n",
    "There are two main types of estimation: point estimation and interval estimation.\n",
    "\n",
    "1.Point estimate: A point estimate is a single value that is used to estimate an unknown population parameter. It is based on a single value from the sample, such as the sample mean, sample variance, or sample proportion. Point estimates provide a quick and simple way to estimate a population parameter, but they do not provide any information about the precision of the estimate.\n",
    "For example, suppose we are interested in estimating the population mean (μ) of the heights of all adults in a certain city. We take a random sample of 100 adults and find that the sample mean height is 170 cm. The sample mean of 170 cm is a point estimate of the population mean height.\n",
    "\n",
    "2.Interval estimate: An interval estimate is a range of values that is likely to contain the unknown population parameter. It is based on a sample statistic and a margin of error. Interval estimates provide more information about the precision of the estimate than point estimates.\n",
    "For example, suppose we are interested in estimating the population mean (μ) of the heights of all adults in a certain city. We take a random sample of 100 adults and find that the sample mean height is 170 cm, with a standard deviation of 10 cm. We can construct a 95% confidence interval for the population mean height using the formula:\n",
    "\n",
    "CI = x̄ ± zα/2 * (s/√n)\n",
    "\n",
    "where x̄ is the sample mean, s is the sample standard deviation, n is the sample size, zα/2 is the z-score corresponding to the desired confidence level (in this case, 95%), and CI is the confidence interval. Plugging in the values, we get:\n",
    "\n",
    "CI = 170 ± 1.96 * (10/√100) = 170 ± 1.96\n",
    "\n",
    "Therefore, the 95% confidence interval for the population mean height is between 168.04 cm and 171.96 cm. This means that we can be 95% confident that the true population mean height falls within this range.\n",
    "\n",
    "In summary, estimation statistics involves using statistical methods to estimate unknown population parameters based on sample data. Point estimates are single values that provide a quick and simple way to estimate a population parameter, while interval estimates provide a range of values that are likely to contain the unknown population parameter with a certain level of confidence."
   ]
  },
  {
   "cell_type": "markdown",
   "id": "395836c6-468b-4648-bfea-8849ba5ea671",
   "metadata": {},
   "source": [
    "Q2. Write a Python function to estimate the population mean using a sample mean and standard\n",
    "deviation."
   ]
  },
  {
   "cell_type": "code",
   "execution_count": 1,
   "id": "c99d652d-a5cf-42eb-aa6b-e3a03a3a6ca5",
   "metadata": {},
   "outputs": [
    {
     "name": "stdout",
     "output_type": "stream",
     "text": [
      "The estimated population mean is between 9.61 and 10.39\n"
     ]
    }
   ],
   "source": [
    "import math\n",
    "\n",
    "def estimate_population_mean(sample_mean, sample_stddev, sample_size):\n",
    "    z = 1.96  # z-score for 95% confidence interval\n",
    "    std_error = sample_stddev / math.sqrt(sample_size)\n",
    "    lower_bound = sample_mean - z * std_error\n",
    "    upper_bound = sample_mean + z * std_error\n",
    "    return (lower_bound, upper_bound)\n",
    "sample_mean = 10\n",
    "sample_stddev = 2\n",
    "sample_size = 100\n",
    "(lower_bound, upper_bound) = estimate_population_mean(sample_mean, sample_stddev, sample_size)\n",
    "print(f\"The estimated population mean is between {lower_bound:.2f} and {upper_bound:.2f}\")\n"
   ]
  },
  {
   "cell_type": "markdown",
   "id": "9c502078-8931-4b8f-8a35-97ca4658321c",
   "metadata": {},
   "source": [
    "Q3: What is Hypothesis testing? Why is it used? State the importance of Hypothesis testing."
   ]
  },
  {
   "cell_type": "markdown",
   "id": "28373faf-0346-4d24-ae95-fe6f632bc099",
   "metadata": {},
   "source": [
    "Ans--> Hypothesis testing is a statistical method used to make inferences about population parameters based on sample data. It involves formulating two competing hypotheses about the population parameter of interest, called the null hypothesis and the alternative hypothesis, and then using the sample data to determine which hypothesis is more likely to be true.\n",
    "\n",
    "The null hypothesis typically represents the status quo or the default assumption, while the alternative hypothesis represents the researcher's hypothesis or the claim to be tested. The goal of hypothesis testing is to determine whether the sample data provide enough evidence to reject the null hypothesis in favor of the alternative hypothesis.\n",
    "\n",
    "Hypothesis testing is used in a wide range of fields and applications, such as in medicine to test the effectiveness of a new drug, in marketing to test the impact of a new advertising campaign, in engineering to test the reliability of a new product, and in social sciences to test theories about human behavior.\n",
    "\n",
    "The importance of hypothesis testing lies in its ability to provide a systematic and objective way to evaluate evidence and make decisions based on data. By using hypothesis testing, researchers can avoid making conclusions based on anecdotal evidence or personal beliefs and instead rely on statistical evidence to make inferences about the population. This can lead to more accurate and reliable conclusions and can help to guide future research and decision-making."
   ]
  },
  {
   "cell_type": "markdown",
   "id": "75a5dc4e-be10-4fb5-a1f6-81ed58287cb8",
   "metadata": {},
   "source": [
    "Q4. Create a hypothesis that states whether the average weight of male college students is greater than\n",
    "the average weight of female college students."
   ]
  },
  {
   "cell_type": "markdown",
   "id": "4856fd4f-a5ec-41a0-88d1-1f9d830f17d2",
   "metadata": {},
   "source": [
    "Ans--> Here's a hypothesis that states whether the average weight of male college students is greater than the average weight of female college students:\n",
    "\n",
    "Null Hypothesis: The average weight of male college students is equal to or less than the average weight of female college students.\n",
    "\n",
    "Alternative Hypothesis: The average weight of male college students is greater than the average weight of female college students.\n",
    "\n",
    "Symbolically, this can be represented as:\n",
    "\n",
    "H0: μm ≤ μf\n",
    "\n",
    "Ha: μm > μf\n",
    "\n",
    "where H0 is the null hypothesis, Ha is the alternative hypothesis, μm is the population mean weight of male college students, and μf is the population mean weight of female college students.\n",
    "\n",
    "To test this hypothesis, we would need to collect a sample of male and female college students and calculate the sample mean weight for each group. We could then use hypothesis testing to determine whether the difference between the sample means is statistically significant and provides enough evidence to reject the null hypothesis in favor of the alternative hypothesis."
   ]
  },
  {
   "cell_type": "markdown",
   "id": "60bcb355-ddfd-4ca4-891d-c24bf77fea5c",
   "metadata": {},
   "source": [
    "Q5. Write a Python script to conduct a hypothesis test on the difference between two population means,\n",
    "given a sample from each population."
   ]
  },
  {
   "cell_type": "code",
   "execution_count": 2,
   "id": "ca1bd26c-8789-48d7-b97a-b2fa32ea9b80",
   "metadata": {},
   "outputs": [
    {
     "name": "stdout",
     "output_type": "stream",
     "text": [
      "Sample 1 Mean: 50.45\n",
      "Sample 2 Mean: 61.60\n",
      "Sample 1 Standard Deviation: 11.87\n",
      "Sample 2 Standard Deviation: 14.43\n",
      "t-statistic: -3.37\n",
      "p-value: 0.0013\n",
      "Reject null hypothesis\n"
     ]
    }
   ],
   "source": [
    "import numpy as np\n",
    "from scipy.stats import ttest_ind\n",
    "\n",
    "# generate two samples from normal distributions with different means\n",
    "np.random.seed(123)\n",
    "sample1 = np.random.normal(loc=50, scale=10, size=30)\n",
    "sample2 = np.random.normal(loc=60, scale=12, size=35)\n",
    "\n",
    "# calculate the sample means and standard deviations\n",
    "mean1 = np.mean(sample1)\n",
    "mean2 = np.mean(sample2)\n",
    "std1 = np.std(sample1, ddof=1)\n",
    "std2 = np.std(sample2, ddof=1)\n",
    "\n",
    "# conduct a two-sample t-test with equal variances assumed\n",
    "t_stat, p_value = ttest_ind(sample1, sample2, equal_var=True)\n",
    "\n",
    "# print the results\n",
    "print(\"Sample 1 Mean: {:.2f}\".format(mean1))\n",
    "print(\"Sample 2 Mean: {:.2f}\".format(mean2))\n",
    "print(\"Sample 1 Standard Deviation: {:.2f}\".format(std1))\n",
    "print(\"Sample 2 Standard Deviation: {:.2f}\".format(std2))\n",
    "print(\"t-statistic: {:.2f}\".format(t_stat))\n",
    "print(\"p-value: {:.4f}\".format(p_value))\n",
    "if p_value < 0.05:\n",
    "    print(\"Reject null hypothesis\")\n",
    "else:\n",
    "    print(\"Fail to reject null hypothesis\")\n"
   ]
  },
  {
   "cell_type": "markdown",
   "id": "716b7bbb-3a8d-4661-9a80-1a4ff8b681b6",
   "metadata": {},
   "source": [
    "Q6: What is a null and alternative hypothesis? Give some examples."
   ]
  },
  {
   "cell_type": "markdown",
   "id": "01c31d0f-dc71-4f61-b465-82f9cb14e195",
   "metadata": {},
   "source": [
    "Ans--> In statistical hypothesis testing, we start with a null hypothesis (H0) that represents the default assumption, and an alternative hypothesis (Ha) that represents the hypothesis we want to test against the null hypothesis. The null hypothesis usually assumes that there is no significant difference or effect, while the alternative hypothesis represents the opposite.\n",
    "\n",
    "Here are some examples of null and alternative hypotheses:\n",
    "\n",
    "1.Null Hypothesis: The mean weight of apples in a certain orchard is 150 grams.\n",
    "\n",
    "Alternative Hypothesis: The mean weight of apples in the orchard is different from 150 grams.\n",
    "\n",
    "2.Null Hypothesis: The mean cholesterol level of patients taking a certain drug is the same as that of patients taking a placebo.\n",
    "\n",
    "Alternative Hypothesis: The mean cholesterol level of patients taking the drug is different from that of patients taking a placebo.\n",
    "\n",
    "3.Null Hypothesis: The proportion of people who prefer brand A over brand B is 50%.\n",
    "\n",
    "Alternative Hypothesis: The proportion of people who prefer brand A over brand B is different from 50%.\n",
    "\n",
    "4.Null Hypothesis: The average commute time for a certain route is 30 minutes.\n",
    "\n",
    "Alternative Hypothesis: The average commute time for the route is longer than 30 minutes.\n",
    "\n",
    "5.Null Hypothesis: There is no significant relationship between smoking and lung cancer.\n",
    "\n",
    "Alternative Hypothesis: There is a significant relationship between smoking and lung cancer."
   ]
  },
  {
   "cell_type": "markdown",
   "id": "f86fcd70-42db-4586-86d8-1e28ef60b816",
   "metadata": {},
   "source": [
    "Q7: Write down the steps involved in hypothesis testing."
   ]
  },
  {
   "cell_type": "markdown",
   "id": "fe143043-ab40-4f5e-98a5-7c53cc41cfa7",
   "metadata": {},
   "source": [
    "Ans--> The following are the general steps involved in hypothesis testing:\n",
    "\n",
    "1.Formulate the null and alternative hypotheses: This step involves stating the default assumption (null hypothesis) and the hypothesis you want to test (alternative hypothesis).\n",
    "\n",
    "2.Choose the appropriate test: Select the statistical test that is appropriate for your research question and the type of data you are analyzing.\n",
    "\n",
    "3.Determine the level of significance: Choose a significance level (usually 0.05 or 0.01) that represents the maximum acceptable probability of rejecting the null hypothesis when it is true (Type I error).\n",
    "\n",
    "4.Collect data: Collect a sample of data from the population of interest.\n",
    "\n",
    "5.Calculate test statistic: Calculate the appropriate test statistic (such as z-score, t-score, or F-statistic) using the sample data and the chosen statistical test.\n",
    "\n",
    "6.Determine the p-value: The p-value is the probability of observing a test statistic as extreme as the one calculated, assuming the null hypothesis is true. Compare the p-value to the level of significance to determine whether to reject or fail to reject the null hypothesis.\n",
    "\n",
    "7.Make a decision: If the p-value is less than or equal to the level of significance, reject the null hypothesis. If the p-value is greater than the level of significance, fail to reject the null hypothesis.\n",
    "\n",
    "8.Interpret results: Interpret the results of the hypothesis test in the context of the research question and draw conclusions based on the decision made in step 7.\n",
    "\n",
    "9.Report findings: Report the results of the hypothesis test, including the test statistic, p-value, decision, and conclusion."
   ]
  },
  {
   "cell_type": "markdown",
   "id": "ca8e69f3-cff4-4976-9562-c7ebb9c74621",
   "metadata": {},
   "source": [
    "Q8. Define p-value and explain its significance in hypothesis testing."
   ]
  },
  {
   "cell_type": "markdown",
   "id": "3bedcdae-81d0-4c8a-8cad-b244a6a9fbbe",
   "metadata": {},
   "source": [
    "Ans--> In hypothesis testing, the p-value (short for \"probability value\") is the probability of obtaining a test statistic as extreme as or more extreme than the observed value, assuming the null hypothesis is true.\n",
    "\n",
    "The significance of the p-value in hypothesis testing is that it helps us make decisions about the null hypothesis. Specifically, if the p-value is less than or equal to the significance level (usually 0.05 or 0.01), we reject the null hypothesis and accept the alternative hypothesis. On the other hand, if the p-value is greater than the significance level, we fail to reject the null hypothesis and do not accept the alternative hypothesis.\n",
    "\n",
    "A low p-value indicates that the observed result is unlikely to have occurred by chance alone, and therefore provides evidence against the null hypothesis. Conversely, a high p-value indicates that the observed result is likely to have occurred by chance alone, and does not provide evidence against the null hypothesis.\n",
    "\n",
    "It is important to note that the p-value is not the probability that the alternative hypothesis is true or false, nor does it measure the size of the effect. Rather, it is a measure of the strength of evidence against the null hypothesis provided by the sample data."
   ]
  },
  {
   "cell_type": "markdown",
   "id": "f3b74194-60e9-4e6c-b759-a2e1ab70b063",
   "metadata": {},
   "source": [
    "Q9. Generate a Student's t-distribution plot using Python's matplotlib library, with the degrees of freedom\n",
    "parameter set to 10."
   ]
  },
  {
   "cell_type": "code",
   "execution_count": 4,
   "id": "17af655f-c24e-4540-9f4c-7d1c7af8c9df",
   "metadata": {},
   "outputs": [
    {
     "data": {
      "image/png": "[encoded data removed]",
      "text/plain": [
       "<Figure size 640x480 with 1 Axes>"
      ]
     },
     "metadata": {},
     "output_type": "display_data"
    }
   ],
   "source": [
    "import numpy as np\n",
    "import matplotlib.pyplot as plt\n",
    "import scipy.stats as stats\n",
    "\n",
    "# Define degrees of freedom\n",
    "df = 10\n",
    "\n",
    "# Generate x values for the t-distribution\n",
    "x = np.linspace(-5, 5, num=500)\n",
    "\n",
    "# Calculate y values for the t-distribution\n",
    "y = stats.t.pdf(x, df)\n",
    "\n",
    "# Create plot\n",
    "fig, ax = plt.subplots()\n",
    "ax.plot(x, y)\n",
    "\n",
    "# Add labels and title\n",
    "ax.set_xlabel('x')\n",
    "ax.set_ylabel('f(x)')\n",
    "ax.set_title(f'Student\\'s t-distribution (df={df})')\n",
    "\n",
    "# Show plot\n",
    "plt.show()\n"
   ]
  },
  {
   "cell_type": "markdown",
   "id": "b751237f-6f27-4b56-9ade-5086b246fc75",
   "metadata": {},
   "source": [
    "Q10. Write a Python program to calculate the two-sample t-test for independent samples, given two\n",
    "random samples of equal size and a null hypothesis that the population means are equal."
   ]
  },
  {
   "cell_type": "code",
   "execution_count": 5,
   "id": "84e9dc11-4a46-4d8c-ab91-777dbb33e925",
   "metadata": {},
   "outputs": [
    {
     "name": "stdout",
     "output_type": "stream",
     "text": [
      "t-statistic: -2.9432\n",
      "p-value: 0.0036\n",
      "Reject null hypothesis\n"
     ]
    }
   ],
   "source": [
    "import scipy.stats as stats\n",
    "\n",
    "# Generate two random samples of equal size\n",
    "sample1 = stats.norm.rvs(size=100, loc=0, scale=1)\n",
    "sample2 = stats.norm.rvs(size=100, loc=0.5, scale=1)\n",
    "\n",
    "# Calculate the t-statistic and p-value\n",
    "t_stat, p_value = stats.ttest_ind(sample1, sample2)\n",
    "\n",
    "# Print the results\n",
    "print(f\"t-statistic: {t_stat:.4f}\")\n",
    "print(f\"p-value: {p_value:.4f}\")\n",
    "\n",
    "# Check if the p-value is less than the significance level (e.g. alpha=0.05) and reject or fail to reject the null hypothesis accordingly\n",
    "if p_value < 0.05:\n",
    "    print(\"Reject null hypothesis\")\n",
    "else:\n",
    "    print(\"Fail to reject null hypothesis\")\n"
   ]
  },
  {
   "cell_type": "markdown",
   "id": "b99e7078-48c9-4fd6-ae77-d83f72ae07ad",
   "metadata": {},
   "source": [
    "Q11: What is Student’s t distribution? When to use the t-Distribution."
   ]
  },
  {
   "cell_type": "markdown",
   "id": "0f6ac8c0-c328-44f2-88be-ccf8803f344c",
   "metadata": {},
   "source": [
    "Ans--> Student's t-distribution is a probability distribution that arises when estimating the mean of a normally distributed population in situations where the sample size is small or the population standard deviation is unknown. It is named after William Sealy Gosset, who published under the pseudonym \"Student\" in 1908.\n",
    "\n",
    "The t-distribution is similar in shape to the standard normal distribution, but with heavier tails, meaning that it has more probability in the tails than the normal distribution. The shape of the t-distribution depends on its degrees of freedom, which is determined by the sample size minus one.\n",
    "\n",
    "The t-distribution is commonly used in hypothesis testing and confidence interval estimation when the sample size is small (less than 30) or when the population standard deviation is unknown. When the sample size is large (greater than or equal to 30) and the population standard deviation is unknown, the normal distribution can be used instead.\n",
    "\n",
    "In summary, the t-distribution is used when:\n",
    "\n",
    "1.The population standard deviation is unknown and must be estimated from the sample.\n",
    "\n",
    "2.The sample size is small (less than 30) and the population is assumed to be normally distributed.\n",
    "\n",
    "3.The research question involves comparing the means of two samples with small sample sizes.\n"
   ]
  },
  {
   "cell_type": "markdown",
   "id": "51da075f-957d-4ac0-bfb7-dfe315a03b02",
   "metadata": {},
   "source": [
    "Q12: What is t-statistic? State the formula for t-statistic."
   ]
  },
  {
   "cell_type": "markdown",
   "id": "a365d1e3-24fd-468c-a210-69425b6995a7",
   "metadata": {},
   "source": [
    "Ans--> The t-statistic is a test statistic used in hypothesis testing when the population standard deviation is unknown and must be estimated from the sample. It measures the difference between the sample mean and the hypothesized population mean in units of the standard error.\n",
    "\n",
    "The formula for the t-statistic is:\n",
    "\n",
    "t = (x̄ - μ) / (s / sqrt(n))\n",
    "\n",
    "where:\n",
    "\n",
    "x̄ is the sample mean\n",
    "μ is the hypothesized population mean\n",
    "s is the sample standard deviation\n",
    "n is the sample size\n",
    "The t-statistic follows a t-distribution with n-1 degrees of freedom. By comparing the calculated t-value to the critical value of the t-distribution, we can determine whether to reject or fail to reject the null hypothesis."
   ]
  },
  {
   "cell_type": "markdown",
   "id": "1b92019e-7a03-4edc-bb8c-193623cb7eac",
   "metadata": {},
   "source": [
    "Q13. A coffee shop owner wants to estimate the average daily revenue for their shop. They take a random\n",
    "sample of 50 days and find the sample mean revenue to be $500 with a standard deviation of $50.\n",
    "Estimate the population mean revenue with a 95% confidence interval."
   ]
  },
  {
   "cell_type": "markdown",
   "id": "ca7d844f-08f8-4d9e-ac38-d4d8dd118195",
   "metadata": {},
   "source": [
    "Ans--> We can use the t-distribution and the formula for the confidence interval to estimate the population mean revenue with a 95% confidence interval. The formula for the confidence interval is:\n",
    "\n",
    "CI = x̄ ± t(alpha/2, df) * (s / sqrt(n))\n",
    "\n",
    "where:\n",
    "\n",
    "x̄ is the sample mean revenue\n",
    "t(alpha/2, df) is the t-value for the given alpha level (0.05 for 95% confidence interval) and degrees of freedom (n-1 = 49)\n",
    "s is the sample standard deviation of revenue\n",
    "n is the sample size (50)\n",
    "Plugging in the values, we get:\n",
    "\n",
    "CI = 500 ± t(0.025, 49) * (50 / sqrt(50))\n",
    "\n",
    "Using a t-table or a calculator, we can find that t(0.025, 49) = 2.0096 (rounded to four decimal places). Substituting this value, we get:\n",
    "\n",
    "CI = 500 ± 2.0096 * (50 / sqrt(50))\n",
    "= 500 ± 14.16\n",
    "\n",
    "Therefore, the 95% confidence interval for the population mean revenue is (485.84, 514.16) dollars. We can say with 95% confidence that the true population mean revenue falls within this range."
   ]
  },
  {
   "cell_type": "markdown",
   "id": "49363232-3456-4b2e-8b53-a91a7f75e68e",
   "metadata": {},
   "source": [
    "Q14. A researcher hypothesizes that a new drug will decrease blood pressure by 10 mmHg. They conduct a\n",
    "clinical trial with 100 patients and find that the sample mean decrease in blood pressure is 8 mmHg with a\n",
    "standard deviation of 3 mmHg. Test the hypothesis with a significance level of 0.05."
   ]
  },
  {
   "cell_type": "markdown",
   "id": "89822a2e-d7c2-46fc-bb5c-4705569467f5",
   "metadata": {},
   "source": [
    "Ans--> To test the hypothesis, we will use a one-sample t-test. The null hypothesis is that the true mean decrease in blood pressure is equal to 10 mmHg, while the alternative hypothesis is that it is less than 10 mmHg.\n",
    "\n",
    "We can use the t-statistic formula to calculate the t-value:\n",
    "\n",
    "t = (sample mean - hypothesized mean) / (standard deviation / sqrt(sample size))\n",
    "t = (8 - 10) / (3 / sqrt(100))\n",
    "t = -6.67\n",
    "\n",
    "The degrees of freedom for this test is 99 (sample size minus 1). Using a t-table or a t-distribution calculator, we can find the critical t-value for a one-tailed test with a significance level of 0.05 and 99 degrees of freedom, which is -1.660.\n",
    "\n",
    "Since the calculated t-value is smaller than the critical t-value, we reject the null hypothesis and conclude that there is evidence to suggest that the true mean decrease in blood pressure is less than 10 mmHg."
   ]
  },
  {
   "cell_type": "markdown",
   "id": "aa7c159b-7c2e-49f9-89dc-e3bab6bded4d",
   "metadata": {},
   "source": [
    "Q15. An electronics company produces a certain type of product with a mean weight of 5 pounds and a\n",
    "standard deviation of 0.5 pounds. A random sample of 25 products is taken, and the sample mean weight\n",
    "is found to be 4.8 pounds. Test the hypothesis that the true mean weight of the products is less than 5\n",
    "pounds with a significance level of 0.01."
   ]
  },
  {
   "cell_type": "markdown",
   "id": "2e0cefd2-73e8-4df1-97d8-4004007c71e3",
   "metadata": {},
   "source": [
    "Ans--> Given:\n",
    "\n",
    "Population mean weight (μ) = 5 pounds\n",
    "Population standard deviation (σ) = 0.5 pounds\n",
    "Sample size (n) = 25\n",
    "Sample mean weight (x̄) = 4.8 pounds\n",
    "Significance level (α) = 0.01 (one-tailed test)\n",
    "We need to test the hypothesis:\n",
    "\n",
    "Null hypothesis (H0): μ ≥ 5\n",
    "Alternative hypothesis (Ha): μ < 5\n",
    "Since the population standard deviation is known and the sample size is greater than 30, we can use the z-test.\n",
    "\n",
    "The test statistic can be calculated as:\n",
    "\n",
    "z = (x̄ - μ) / (σ / sqrt(n))\n",
    "z = (4.8 - 5) / (0.5 / sqrt(25))\n",
    "z = -2\n",
    "\n",
    "The critical z-value can be found using a z-table or using the ppf() function from the scipy.stats.norm module:\n",
    "\n",
    "z_critical = norm.ppf(α)\n",
    "z_critical = norm.ppf(0.01)\n",
    "z_critical = -2.33\n",
    "\n",
    "Since the calculated z-value (-2) is greater than the critical z-value (-2.33), we reject the null hypothesis and conclude that there is sufficient evidence to support the alternative hypothesis that the true mean weight of the products is less than 5 pounds at a significance level of 0.01."
   ]
  },
  {
   "cell_type": "markdown",
   "id": "4ca33956-44cb-4389-b543-940403fe41dd",
   "metadata": {},
   "source": [
    "Q16. Two groups of students are given different study materials to prepare for a test. The first group (n1 =\n",
    "30) has a mean score of 80 with a standard deviation of 10, and the second group (n2 = 40) has a mean\n",
    "score of 75 with a standard deviation of 8. Test the hypothesis that the population means for the two\n",
    "groups are equal with a significance level of 0.01."
   ]
  },
  {
   "cell_type": "markdown",
   "id": "97641c96-a5b6-43e5-964a-cc4cc400673b",
   "metadata": {},
   "source": [
    "Ans--> To test the hypothesis that the population means for the two groups are equal, we will use a two-sample t-test for independent samples. The null hypothesis is that the means are equal, while the alternative hypothesis is that they are not equal.\n",
    "\n",
    "Null hypothesis: µ1 = µ2\n",
    "Alternative hypothesis: µ1 ≠ µ2\n",
    "\n",
    "Significance level (α) = 0.01\n",
    "\n",
    "We can calculate the test statistic using the formula:\n",
    "\n",
    "t = (x1̅ - x2̅) / √(s1^2/n1 + s2^2/n2)\n",
    "\n",
    "where x1̅ and x2̅ are the sample means, s1 and s2 are the sample standard deviations, and n1 and n2 are the sample sizes.\n",
    "\n",
    "Using the given values, we get:\n",
    "\n",
    "t = (80 - 75) / √(10^2/30 + 8^2/40)\n",
    "t = 2.28\n",
    "\n",
    "To determine the p-value for the test, we need to find the degrees of freedom, which is given by:\n",
    "\n",
    "df = (s1^2/n1 + s2^2/n2)^2 / ((s1^2/n1)^2/(n1-1) + (s2^2/n2)^2/(n2-1))\n",
    "\n",
    "Using the given values, we get:\n",
    "\n",
    "df = (10^2/30 + 8^2/40)^2 / ((10^2/30)^2/29 + (8^2/40)^2/39)\n",
    "df = 62.67 (rounded to the nearest integer, which is 63)\n",
    "\n",
    "We can then use the t-distribution table or a statistical software package to find the p-value associated with a t-statistic of 2.28 with 63 degrees of freedom. Assuming a two-tailed test, we get a p-value of 0.025 (rounded to three decimal places).\n",
    "\n",
    "Since the p-value (0.025) is less than the significance level (0.01), we reject the null hypothesis. Therefore, we can conclude that the population means for the two groups are not equal at the 0.01 significance level."
   ]
  },
  {
   "cell_type": "markdown",
   "id": "bf288457-d13b-4969-afb2-4dd28ad01f0e",
   "metadata": {},
   "source": [
    "Q17. A marketing company wants to estimate the average number of ads watched by viewers during a TV\n",
    "program. They take a random sample of 50 viewers and find that the sample mean is 4 with a standard\n",
    "deviation of 1.5. Estimate the population mean with a 99% confidence interval."
   ]
  },
  {
   "cell_type": "markdown",
   "id": "978e6586-9b57-4f19-9397-94af1f9e9f39",
   "metadata": {},
   "source": [
    "Ans--> To estimate the population mean with a 99% confidence interval, we can use the formula:\n",
    "\n",
    "Confidence interval = sample mean ± (t-value x standard error)\n",
    "\n",
    "where t-value is the critical value from the t-distribution table with (n-1) degrees of freedom and a 99% confidence level, and the standard error is calculated as standard deviation / sqrt(n).\n",
    "\n",
    "First, we need to find the t-value:\n",
    "\n",
    "Degrees of freedom = n - 1 = 50 - 1 = 49\n",
    "From the t-distribution table, the critical value for a 99% confidence level and 49 degrees of freedom is 2.680.\n",
    "Next, we can calculate the standard error:\n",
    "\n",
    "Standard error = standard deviation / sqrt(n) = 1.5 / sqrt(50) = 0.212\n",
    "Finally, we can calculate the confidence interval:\n",
    "\n",
    "Confidence interval = 4 ± (2.680 x 0.212) = [3.431, 4.569]\n",
    "\n",
    "Therefore, we can say with 99% confidence that the population mean number of ads watched by viewers during a TV program is between 3.431 and 4.569."
   ]
  },
  {
   "cell_type": "code",
   "execution_count": null,
   "id": "090f3bbb-f824-4cec-bd73-826558de2774",
   "metadata": {},
   "outputs": [],
   "source": []
  }
 ],
 "metadata": {
  "kernelspec": {
   "display_name": "Python 3 (ipykernel)",
   "language": "python",
   "name": "python3"
  },
  "language_info": {
   "codemirror_mode": {
    "name": "ipython",
    "version": 3
   },
   "file_extension": ".py",
   "mimetype": "text/x-python",
   "name": "python",
   "nbconvert_exporter": "python",
   "pygments_lexer": "ipython3",
   "version": "3.10.8"
  }
 },
 "nbformat": 4,
 "nbformat_minor": 5
}
